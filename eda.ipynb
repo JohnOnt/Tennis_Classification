{
 "cells": [
  {
   "cell_type": "code",
   "execution_count": 1,
   "metadata": {},
   "outputs": [],
   "source": [
    "import pandas as pd\n",
    "import numpy as np"
   ]
  },
  {
   "cell_type": "markdown",
   "metadata": {},
   "source": [
    "# Dataset description\n",
    "Each tournament has two datasets associated with it, one is named *year*-*tourney name*-matches.csv, which holds the metadata for the matches between players.\n",
    "The other dataset is named *year*-*tourney name*-points.csv, which holds the point-by-point data of the matches.\n",
    "In this EDA we will be looking at the 2018 US Open dataset:"
   ]
  },
  {
   "cell_type": "code",
   "execution_count": 2,
   "metadata": {},
   "outputs": [],
   "source": [
    "us18_matches = pd.read_csv('tennis_data/2018-usopen-matches.csv')\n",
    "us18_matches = us18_matches.dropna(axis=1, how='all')\n",
    "\n",
    "us18_points = pd.read_csv('tennis_data/2018-usopen-points.csv')\n",
    "us18_points = us18_points.dropna(axis=1, how='all')"
   ]
  },
  {
   "cell_type": "code",
   "execution_count": 3,
   "metadata": {},
   "outputs": [
    {
     "name": "stdout",
     "output_type": "stream",
     "text": [
      "Index(['match_id', 'ElapsedTime', 'SetNo', 'P1GamesWon', 'P2GamesWon',\n",
      "       'SetWinner', 'GameNo', 'GameWinner', 'PointNumber', 'PointWinner',\n",
      "       'PointServer', 'Speed_KMH', 'P1Score', 'P2Score', 'P1Momentum',\n",
      "       'P2Momentum', 'P1PointsWon', 'P2PointsWon', 'P1Ace', 'P2Ace',\n",
      "       'P1Winner', 'P2Winner', 'P1DoubleFault', 'P2DoubleFault', 'P1UnfErr',\n",
      "       'P2UnfErr', 'P1NetPoint', 'P2NetPoint', 'P1NetPointWon',\n",
      "       'P2NetPointWon', 'P1BreakPoint', 'P2BreakPoint', 'P1BreakPointWon',\n",
      "       'P2BreakPointWon', 'History', 'Speed_MPH', 'P1BreakPointMissed',\n",
      "       'P2BreakPointMissed', 'ServeIndicator', 'ServeNumber', 'WinnerType',\n",
      "       'WinnerShotType', 'P1DistanceRun', 'P2DistanceRun', 'RallyCount',\n",
      "       'ServeWidth', 'ServeDepth', 'ReturnDepth'],\n",
      "      dtype='object')\n"
     ]
    },
    {
     "data": {
      "text/html": "<div>\n<style scoped>\n    .dataframe tbody tr th:only-of-type {\n        vertical-align: middle;\n    }\n\n    .dataframe tbody tr th {\n        vertical-align: top;\n    }\n\n    .dataframe thead th {\n        text-align: right;\n    }\n</style>\n<table border=\"1\" class=\"dataframe\">\n  <thead>\n    <tr style=\"text-align: right;\">\n      <th></th>\n      <th>match_id</th>\n      <th>ElapsedTime</th>\n      <th>SetNo</th>\n      <th>P1GamesWon</th>\n      <th>P2GamesWon</th>\n      <th>SetWinner</th>\n      <th>GameNo</th>\n      <th>GameWinner</th>\n      <th>PointNumber</th>\n      <th>PointWinner</th>\n      <th>...</th>\n      <th>ServeIndicator</th>\n      <th>ServeNumber</th>\n      <th>WinnerType</th>\n      <th>WinnerShotType</th>\n      <th>P1DistanceRun</th>\n      <th>P2DistanceRun</th>\n      <th>RallyCount</th>\n      <th>ServeWidth</th>\n      <th>ServeDepth</th>\n      <th>ReturnDepth</th>\n    </tr>\n  </thead>\n  <tbody>\n    <tr>\n      <th>0</th>\n      <td>2018-usopen-1101</td>\n      <td>0:00:00</td>\n      <td>1</td>\n      <td>0</td>\n      <td>0</td>\n      <td>0</td>\n      <td>1</td>\n      <td>0</td>\n      <td>0X</td>\n      <td>0</td>\n      <td>...</td>\n      <td>0</td>\n      <td>0</td>\n      <td>0</td>\n      <td>0</td>\n      <td>0.000</td>\n      <td>0.000</td>\n      <td>0</td>\n      <td>NaN</td>\n      <td>NaN</td>\n      <td>NaN</td>\n    </tr>\n    <tr>\n      <th>1</th>\n      <td>2018-usopen-1101</td>\n      <td>0:00:00</td>\n      <td>1</td>\n      <td>0</td>\n      <td>0</td>\n      <td>0</td>\n      <td>1</td>\n      <td>0</td>\n      <td>0Y</td>\n      <td>0</td>\n      <td>...</td>\n      <td>0</td>\n      <td>0</td>\n      <td>0</td>\n      <td>0</td>\n      <td>0.000</td>\n      <td>0.000</td>\n      <td>0</td>\n      <td>NaN</td>\n      <td>NaN</td>\n      <td>NaN</td>\n    </tr>\n    <tr>\n      <th>2</th>\n      <td>2018-usopen-1101</td>\n      <td>0:00:00</td>\n      <td>1</td>\n      <td>0</td>\n      <td>0</td>\n      <td>0</td>\n      <td>1</td>\n      <td>0</td>\n      <td>1</td>\n      <td>1</td>\n      <td>...</td>\n      <td>2</td>\n      <td>1</td>\n      <td>0</td>\n      <td>0</td>\n      <td>5.951</td>\n      <td>2.944</td>\n      <td>2</td>\n      <td>W</td>\n      <td>CTL</td>\n      <td>NaN</td>\n    </tr>\n    <tr>\n      <th>3</th>\n      <td>2018-usopen-1101</td>\n      <td>0:00:19</td>\n      <td>1</td>\n      <td>0</td>\n      <td>0</td>\n      <td>0</td>\n      <td>1</td>\n      <td>0</td>\n      <td>2</td>\n      <td>2</td>\n      <td>...</td>\n      <td>2</td>\n      <td>1</td>\n      <td>0</td>\n      <td>0</td>\n      <td>2.875</td>\n      <td>2.285</td>\n      <td>1</td>\n      <td>NaN</td>\n      <td>NaN</td>\n      <td>ND</td>\n    </tr>\n    <tr>\n      <th>4</th>\n      <td>2018-usopen-1101</td>\n      <td>0:00:37</td>\n      <td>1</td>\n      <td>0</td>\n      <td>0</td>\n      <td>0</td>\n      <td>1</td>\n      <td>0</td>\n      <td>3</td>\n      <td>2</td>\n      <td>...</td>\n      <td>2</td>\n      <td>2</td>\n      <td>0</td>\n      <td>0</td>\n      <td>3.886</td>\n      <td>3.986</td>\n      <td>1</td>\n      <td>BW</td>\n      <td>NCTL</td>\n      <td>D</td>\n    </tr>\n  </tbody>\n</table>\n<p>5 rows × 48 columns</p>\n</div>",
      "text/plain": "           match_id ElapsedTime  SetNo  P1GamesWon  P2GamesWon  SetWinner  \\\n0  2018-usopen-1101     0:00:00      1           0           0          0   \n1  2018-usopen-1101     0:00:00      1           0           0          0   \n2  2018-usopen-1101     0:00:00      1           0           0          0   \n3  2018-usopen-1101     0:00:19      1           0           0          0   \n4  2018-usopen-1101     0:00:37      1           0           0          0   \n\n   GameNo  GameWinner PointNumber  PointWinner  ...  ServeIndicator  \\\n0       1           0          0X            0  ...               0   \n1       1           0          0Y            0  ...               0   \n2       1           0           1            1  ...               2   \n3       1           0           2            2  ...               2   \n4       1           0           3            2  ...               2   \n\n   ServeNumber WinnerType WinnerShotType  P1DistanceRun  P2DistanceRun  \\\n0            0          0              0          0.000          0.000   \n1            0          0              0          0.000          0.000   \n2            1          0              0          5.951          2.944   \n3            1          0              0          2.875          2.285   \n4            2          0              0          3.886          3.986   \n\n   RallyCount  ServeWidth  ServeDepth  ReturnDepth  \n0           0         NaN         NaN          NaN  \n1           0         NaN         NaN          NaN  \n2           2           W         CTL          NaN  \n3           1         NaN         NaN           ND  \n4           1          BW        NCTL            D  \n\n[5 rows x 48 columns]"
     },
     "execution_count": 3,
     "metadata": {},
     "output_type": "execute_result"
    }
   ],
   "source": [
    "print(us18_points.columns)\n",
    "us18_points.head()"
   ]
  },
  {
   "cell_type": "code",
   "execution_count": 4,
   "metadata": {},
   "outputs": [
    {
     "data": {
      "text/plain": "array([0, 1])"
     },
     "execution_count": 4,
     "metadata": {},
     "output_type": "execute_result"
    }
   ],
   "source": [
    "us18_points.P1DoubleFault.unique()"
   ]
  },
  {
   "cell_type": "markdown",
   "metadata": {},
   "source": [
    "### ServeWidth\n",
    "\n",
    "B: Body\n",
    "BC: Body/Center\n",
    "BW: Body/Wide\n",
    "C: Center [\"down the T\"]\n",
    "W: Wide\n",
    "\n",
    "### ServeDepth\n",
    "\n",
    "CTL: Close To Line\n",
    "NCTL: Not Close To Line\n",
    "\n",
    "### ReturnDepth\n",
    "\n",
    "D: Deep\n",
    "ND: Not Deep\n",
    "\n",
    "### ServeIndicator\n",
    "\n",
    "1: 1st serve\n",
    "2: 2nd servea"
   ]
  },
  {
   "cell_type": "code",
   "execution_count": 5,
   "metadata": {},
   "outputs": [
    {
     "name": "stdout",
     "output_type": "stream",
     "text": [
      "Index(['match_id', 'year', 'slam', 'match_num', 'player1', 'player2'], dtype='object')\n"
     ]
    },
    {
     "data": {
      "text/html": "<div>\n<style scoped>\n    .dataframe tbody tr th:only-of-type {\n        vertical-align: middle;\n    }\n\n    .dataframe tbody tr th {\n        vertical-align: top;\n    }\n\n    .dataframe thead th {\n        text-align: right;\n    }\n</style>\n<table border=\"1\" class=\"dataframe\">\n  <thead>\n    <tr style=\"text-align: right;\">\n      <th></th>\n      <th>match_id</th>\n      <th>year</th>\n      <th>slam</th>\n      <th>match_num</th>\n      <th>player1</th>\n      <th>player2</th>\n    </tr>\n  </thead>\n  <tbody>\n    <tr>\n      <th>0</th>\n      <td>2018-usopen-1101</td>\n      <td>2018</td>\n      <td>usopen</td>\n      <td>1101</td>\n      <td>Rafael Nadal</td>\n      <td>David Ferrer</td>\n    </tr>\n    <tr>\n      <th>1</th>\n      <td>2018-usopen-1105</td>\n      <td>2018</td>\n      <td>usopen</td>\n      <td>1105</td>\n      <td>Jack Sock</td>\n      <td>Guido Andreozzi</td>\n    </tr>\n    <tr>\n      <th>2</th>\n      <td>2018-usopen-1108</td>\n      <td>2018</td>\n      <td>usopen</td>\n      <td>1108</td>\n      <td>Paolo Lorenzi</td>\n      <td>Kyle Edmund</td>\n    </tr>\n    <tr>\n      <th>3</th>\n      <td>2018-usopen-1109</td>\n      <td>2018</td>\n      <td>usopen</td>\n      <td>1109</td>\n      <td>Dominic Thiem</td>\n      <td>Mirza Basic</td>\n    </tr>\n    <tr>\n      <th>4</th>\n      <td>2018-usopen-1111</td>\n      <td>2018</td>\n      <td>usopen</td>\n      <td>1111</td>\n      <td>Mischa Zverev</td>\n      <td>Taylor Fritz</td>\n    </tr>\n  </tbody>\n</table>\n</div>",
      "text/plain": "           match_id  year    slam  match_num        player1          player2\n0  2018-usopen-1101  2018  usopen       1101   Rafael Nadal     David Ferrer\n1  2018-usopen-1105  2018  usopen       1105      Jack Sock  Guido Andreozzi\n2  2018-usopen-1108  2018  usopen       1108  Paolo Lorenzi      Kyle Edmund\n3  2018-usopen-1109  2018  usopen       1109  Dominic Thiem      Mirza Basic\n4  2018-usopen-1111  2018  usopen       1111  Mischa Zverev     Taylor Fritz"
     },
     "execution_count": 5,
     "metadata": {},
     "output_type": "execute_result"
    }
   ],
   "source": [
    "print(us18_matches.columns)\n",
    "us18_matches.head()"
   ]
  },
  {
   "cell_type": "code",
   "execution_count": 6,
   "metadata": {},
   "outputs": [
    {
     "name": "stdout",
     "output_type": "stream",
     "text": [
      "1528848\n",
      "178\n"
     ]
    }
   ],
   "source": [
    "print(np.size(us18_points))\n",
    "print(np.size(us18_points['match_id'].unique()))"
   ]
  },
  {
   "cell_type": "code",
   "execution_count": 7,
   "metadata": {},
   "outputs": [
    {
     "data": {
      "text/html": "<div>\n<style scoped>\n    .dataframe tbody tr th:only-of-type {\n        vertical-align: middle;\n    }\n\n    .dataframe tbody tr th {\n        vertical-align: top;\n    }\n\n    .dataframe thead th {\n        text-align: right;\n    }\n</style>\n<table border=\"1\" class=\"dataframe\">\n  <thead>\n    <tr style=\"text-align: right;\">\n      <th></th>\n      <th>match_id</th>\n      <th>year</th>\n      <th>slam</th>\n      <th>match_num</th>\n      <th>player1</th>\n      <th>player2</th>\n    </tr>\n  </thead>\n  <tbody>\n    <tr>\n      <th>3</th>\n      <td>2018-usopen-1109</td>\n      <td>2018</td>\n      <td>usopen</td>\n      <td>1109</td>\n      <td>Dominic Thiem</td>\n      <td>Mirza Basic</td>\n    </tr>\n    <tr>\n      <th>31</th>\n      <td>2018-usopen-1205</td>\n      <td>2018</td>\n      <td>usopen</td>\n      <td>1205</td>\n      <td>Dominic Thiem</td>\n      <td>Steve Johnson</td>\n    </tr>\n    <tr>\n      <th>57</th>\n      <td>2018-usopen-1303</td>\n      <td>2018</td>\n      <td>usopen</td>\n      <td>1303</td>\n      <td>Dominic Thiem</td>\n      <td>Taylor Fritz</td>\n    </tr>\n    <tr>\n      <th>72</th>\n      <td>2018-usopen-1402</td>\n      <td>2018</td>\n      <td>usopen</td>\n      <td>1402</td>\n      <td>Dominic Thiem</td>\n      <td>Kevin Anderson</td>\n    </tr>\n    <tr>\n      <th>79</th>\n      <td>2018-usopen-1501</td>\n      <td>2018</td>\n      <td>usopen</td>\n      <td>1501</td>\n      <td>Rafael Nadal</td>\n      <td>Dominic Thiem</td>\n    </tr>\n  </tbody>\n</table>\n</div>",
      "text/plain": "            match_id  year    slam  match_num        player1         player2\n3   2018-usopen-1109  2018  usopen       1109  Dominic Thiem     Mirza Basic\n31  2018-usopen-1205  2018  usopen       1205  Dominic Thiem   Steve Johnson\n57  2018-usopen-1303  2018  usopen       1303  Dominic Thiem    Taylor Fritz\n72  2018-usopen-1402  2018  usopen       1402  Dominic Thiem  Kevin Anderson\n79  2018-usopen-1501  2018  usopen       1501   Rafael Nadal   Dominic Thiem"
     },
     "execution_count": 7,
     "metadata": {},
     "output_type": "execute_result"
    }
   ],
   "source": [
    "name = 'Dominic Thiem'\n",
    "us18_matches[(us18_matches.player1 == name) | (us18_matches.player2 == name)]"
   ]
  },
  {
   "cell_type": "markdown",
   "metadata": {},
   "source": [
    "# Comments on data\n",
    "Our sample size of matches isn't terribly large, but considering we have each point made in four grand slams a year from 2011 to present, there is a substantial amount of data to go through!\n",
    "\n",
    "# Preliminary player Stat aggregation\n"
   ]
  },
  {
   "cell_type": "code",
   "execution_count": 8,
   "metadata": {},
   "outputs": [
    {
     "data": {
      "text/html": "<div>\n<style scoped>\n    .dataframe tbody tr th:only-of-type {\n        vertical-align: middle;\n    }\n\n    .dataframe tbody tr th {\n        vertical-align: top;\n    }\n\n    .dataframe thead th {\n        text-align: right;\n    }\n</style>\n<table border=\"1\" class=\"dataframe\">\n  <thead>\n    <tr style=\"text-align: right;\">\n      <th></th>\n      <th>match_id</th>\n      <th>ElapsedTime</th>\n      <th>SetNo</th>\n      <th>P1GamesWon</th>\n      <th>P2GamesWon</th>\n      <th>SetWinner</th>\n      <th>GameNo</th>\n      <th>GameWinner</th>\n      <th>PointNumber</th>\n      <th>PointWinner</th>\n      <th>...</th>\n      <th>ServeIndicator</th>\n      <th>ServeNumber</th>\n      <th>WinnerType</th>\n      <th>WinnerShotType</th>\n      <th>P1DistanceRun</th>\n      <th>P2DistanceRun</th>\n      <th>RallyCount</th>\n      <th>ServeWidth</th>\n      <th>ServeDepth</th>\n      <th>ReturnDepth</th>\n    </tr>\n  </thead>\n  <tbody>\n    <tr>\n      <th>0</th>\n      <td>2018-usopen-1101</td>\n      <td>0:00:00</td>\n      <td>1</td>\n      <td>0</td>\n      <td>0</td>\n      <td>0</td>\n      <td>1</td>\n      <td>0</td>\n      <td>0X</td>\n      <td>0</td>\n      <td>...</td>\n      <td>0</td>\n      <td>0</td>\n      <td>0</td>\n      <td>0</td>\n      <td>0.000</td>\n      <td>0.000</td>\n      <td>0</td>\n      <td>NaN</td>\n      <td>NaN</td>\n      <td>NaN</td>\n    </tr>\n    <tr>\n      <th>1</th>\n      <td>2018-usopen-1101</td>\n      <td>0:00:00</td>\n      <td>1</td>\n      <td>0</td>\n      <td>0</td>\n      <td>0</td>\n      <td>1</td>\n      <td>0</td>\n      <td>0Y</td>\n      <td>0</td>\n      <td>...</td>\n      <td>0</td>\n      <td>0</td>\n      <td>0</td>\n      <td>0</td>\n      <td>0.000</td>\n      <td>0.000</td>\n      <td>0</td>\n      <td>NaN</td>\n      <td>NaN</td>\n      <td>NaN</td>\n    </tr>\n    <tr>\n      <th>2</th>\n      <td>2018-usopen-1101</td>\n      <td>0:00:00</td>\n      <td>1</td>\n      <td>0</td>\n      <td>0</td>\n      <td>0</td>\n      <td>1</td>\n      <td>0</td>\n      <td>1</td>\n      <td>1</td>\n      <td>...</td>\n      <td>2</td>\n      <td>1</td>\n      <td>0</td>\n      <td>0</td>\n      <td>5.951</td>\n      <td>2.944</td>\n      <td>2</td>\n      <td>W</td>\n      <td>CTL</td>\n      <td>NaN</td>\n    </tr>\n    <tr>\n      <th>3</th>\n      <td>2018-usopen-1101</td>\n      <td>0:00:19</td>\n      <td>1</td>\n      <td>0</td>\n      <td>0</td>\n      <td>0</td>\n      <td>1</td>\n      <td>0</td>\n      <td>2</td>\n      <td>2</td>\n      <td>...</td>\n      <td>2</td>\n      <td>1</td>\n      <td>0</td>\n      <td>0</td>\n      <td>2.875</td>\n      <td>2.285</td>\n      <td>1</td>\n      <td>NaN</td>\n      <td>NaN</td>\n      <td>ND</td>\n    </tr>\n    <tr>\n      <th>4</th>\n      <td>2018-usopen-1101</td>\n      <td>0:00:37</td>\n      <td>1</td>\n      <td>0</td>\n      <td>0</td>\n      <td>0</td>\n      <td>1</td>\n      <td>0</td>\n      <td>3</td>\n      <td>2</td>\n      <td>...</td>\n      <td>2</td>\n      <td>2</td>\n      <td>0</td>\n      <td>0</td>\n      <td>3.886</td>\n      <td>3.986</td>\n      <td>1</td>\n      <td>BW</td>\n      <td>NCTL</td>\n      <td>D</td>\n    </tr>\n    <tr>\n      <th>...</th>\n      <td>...</td>\n      <td>...</td>\n      <td>...</td>\n      <td>...</td>\n      <td>...</td>\n      <td>...</td>\n      <td>...</td>\n      <td>...</td>\n      <td>...</td>\n      <td>...</td>\n      <td>...</td>\n      <td>...</td>\n      <td>...</td>\n      <td>...</td>\n      <td>...</td>\n      <td>...</td>\n      <td>...</td>\n      <td>...</td>\n      <td>...</td>\n      <td>...</td>\n      <td>...</td>\n    </tr>\n    <tr>\n      <th>18530</th>\n      <td>2018-usopen-1601</td>\n      <td>1:57:52</td>\n      <td>2</td>\n      <td>2</td>\n      <td>5</td>\n      <td>0</td>\n      <td>8</td>\n      <td>0</td>\n      <td>132</td>\n      <td>1</td>\n      <td>...</td>\n      <td>1</td>\n      <td>1</td>\n      <td>0</td>\n      <td>0</td>\n      <td>13.600</td>\n      <td>13.936</td>\n      <td>3</td>\n      <td>W</td>\n      <td>CTL</td>\n      <td>ND</td>\n    </tr>\n    <tr>\n      <th>18531</th>\n      <td>2018-usopen-1601</td>\n      <td>1:58:17</td>\n      <td>2</td>\n      <td>2</td>\n      <td>5</td>\n      <td>0</td>\n      <td>8</td>\n      <td>0</td>\n      <td>133</td>\n      <td>1</td>\n      <td>...</td>\n      <td>1</td>\n      <td>1</td>\n      <td>0</td>\n      <td>0</td>\n      <td>19.441</td>\n      <td>20.650</td>\n      <td>5</td>\n      <td>W</td>\n      <td>NCTL</td>\n      <td>ND</td>\n    </tr>\n    <tr>\n      <th>18532</th>\n      <td>2018-usopen-1601</td>\n      <td>1:58:43</td>\n      <td>2</td>\n      <td>2</td>\n      <td>5</td>\n      <td>0</td>\n      <td>8</td>\n      <td>0</td>\n      <td>134</td>\n      <td>2</td>\n      <td>...</td>\n      <td>1</td>\n      <td>1</td>\n      <td>0</td>\n      <td>0</td>\n      <td>12.195</td>\n      <td>11.350</td>\n      <td>4</td>\n      <td>BW</td>\n      <td>CTL</td>\n      <td>D</td>\n    </tr>\n    <tr>\n      <th>18533</th>\n      <td>2018-usopen-1601</td>\n      <td>1:59:11</td>\n      <td>2</td>\n      <td>2</td>\n      <td>5</td>\n      <td>0</td>\n      <td>8</td>\n      <td>0</td>\n      <td>135</td>\n      <td>2</td>\n      <td>...</td>\n      <td>1</td>\n      <td>1</td>\n      <td>0</td>\n      <td>0</td>\n      <td>10.293</td>\n      <td>11.543</td>\n      <td>4</td>\n      <td>BW</td>\n      <td>NCTL</td>\n      <td>D</td>\n    </tr>\n    <tr>\n      <th>18534</th>\n      <td>2018-usopen-1601</td>\n      <td>1:59:31</td>\n      <td>2</td>\n      <td>2</td>\n      <td>6</td>\n      <td>2</td>\n      <td>8</td>\n      <td>2</td>\n      <td>136</td>\n      <td>2</td>\n      <td>...</td>\n      <td>2</td>\n      <td>1</td>\n      <td>0</td>\n      <td>F</td>\n      <td>8.186</td>\n      <td>10.655</td>\n      <td>4</td>\n      <td>BW</td>\n      <td>NCTL</td>\n      <td>D</td>\n    </tr>\n  </tbody>\n</table>\n<p>1296 rows × 48 columns</p>\n</div>",
      "text/plain": "               match_id ElapsedTime  SetNo  P1GamesWon  P2GamesWon  SetWinner  \\\n0      2018-usopen-1101     0:00:00      1           0           0          0   \n1      2018-usopen-1101     0:00:00      1           0           0          0   \n2      2018-usopen-1101     0:00:00      1           0           0          0   \n3      2018-usopen-1101     0:00:19      1           0           0          0   \n4      2018-usopen-1101     0:00:37      1           0           0          0   \n...                 ...         ...    ...         ...         ...        ...   \n18530  2018-usopen-1601     1:57:52      2           2           5          0   \n18531  2018-usopen-1601     1:58:17      2           2           5          0   \n18532  2018-usopen-1601     1:58:43      2           2           5          0   \n18533  2018-usopen-1601     1:59:11      2           2           5          0   \n18534  2018-usopen-1601     1:59:31      2           2           6          2   \n\n       GameNo  GameWinner PointNumber  PointWinner  ...  ServeIndicator  \\\n0           1           0          0X            0  ...               0   \n1           1           0          0Y            0  ...               0   \n2           1           0           1            1  ...               2   \n3           1           0           2            2  ...               2   \n4           1           0           3            2  ...               2   \n...       ...         ...         ...          ...  ...             ...   \n18530       8           0         132            1  ...               1   \n18531       8           0         133            1  ...               1   \n18532       8           0         134            2  ...               1   \n18533       8           0         135            2  ...               1   \n18534       8           2         136            2  ...               2   \n\n       ServeNumber WinnerType WinnerShotType  P1DistanceRun  P2DistanceRun  \\\n0                0          0              0          0.000          0.000   \n1                0          0              0          0.000          0.000   \n2                1          0              0          5.951          2.944   \n3                1          0              0          2.875          2.285   \n4                2          0              0          3.886          3.986   \n...            ...        ...            ...            ...            ...   \n18530            1          0              0         13.600         13.936   \n18531            1          0              0         19.441         20.650   \n18532            1          0              0         12.195         11.350   \n18533            1          0              0         10.293         11.543   \n18534            1          0              F          8.186         10.655   \n\n       RallyCount  ServeWidth  ServeDepth  ReturnDepth  \n0               0         NaN         NaN          NaN  \n1               0         NaN         NaN          NaN  \n2               2           W         CTL          NaN  \n3               1         NaN         NaN           ND  \n4               1          BW        NCTL            D  \n...           ...         ...         ...          ...  \n18530           3           W         CTL           ND  \n18531           5           W        NCTL           ND  \n18532           4          BW         CTL            D  \n18533           4          BW        NCTL            D  \n18534           4          BW        NCTL            D  \n\n[1296 rows x 48 columns]"
     },
     "execution_count": 8,
     "metadata": {},
     "output_type": "execute_result"
    }
   ],
   "source": [
    "# Get all player names from a tourney\n",
    "\n",
    "def get_player_names(matches):\n",
    "    return np.unique(np.append(matches.player1.values, matches.player2.values))\n",
    "\n",
    "# Given a player name and tourney, get their matches\n",
    "def get_player_points(player, matches, points):\n",
    "    # Get all match numbers\n",
    "    match_ids = matches[(matches['player1'] == player) | (matches['player2'] == player)].match_id\n",
    "\n",
    "    player_points = points[points.match_id.isin(match_ids)]\n",
    "\n",
    "    return player_points\n",
    "\n",
    "get_player_points('Rafael Nadal', us18_matches, us18_points)"
   ]
  },
  {
   "cell_type": "markdown",
   "metadata": {},
   "source": [
    "# The tennis playstyles\n",
    "\n",
    "In order to categorize what type of playstyle each player has I plan to use K-means clustering. \n",
    "But what statistics should be gathered to cluster upon? Good question!\n",
    "I have some general ideas on what to use such as what is on 'Ultimate Tennis Statistics', but by laying out the descriptions of the general 4 playstyles determined by professionaly who have had decades of experience in the sport, we can hone in on what stats or characteristics are really important in capturing playstyle (i.e. a pusher will make few mistakes).\n",
    "\n",
    "## Aggresive Baseliner\n",
    "- Stick to baseline (duh)\n",
    "- Have strong forehand and backhand and hit winners when given a shot at the baseline\n",
    "- Avoid vollying / aren't very good at it\n",
    "- Rely on getting a rhythm going\n",
    "- Occasionally make unforced errors because of aggresive playstyle\n",
    "\n",
    "### Defeated by:\n",
    "- Players who hit deep and vary their shots\n",
    "- Players who bring them up to the net, which is their weakness\n",
    "\n",
    "## The Serve-and-Volleyer\n",
    "- Has a killer serve\n",
    "- Makes a strong first serve and usually rushes to the net to make a well placed volley and possibly finish off the point\n",
    "- Always looking to hit deep and wide to rush to net when returning\n",
    "- Weak / incosistent groundstrokes\n",
    "\n",
    "### Defeated by:\n",
    "- players who can break their serve and return on the rise\n",
    "- players who can hit down the line, lob, and have sharply angled topspin shots\n",
    "- players who can keep them on the baseline by keeping shots deep and lob when they come in\n",
    "\n",
    "## The Counterpuncher / Pusher\n",
    "- Consistent defense, almost never makes unforced errors\n",
    "- Usually are fast and have good court coverage\n",
    "- Wear opponents down until they make a mistake\n",
    "- Hit shots deep, lobs, and places effectively\n",
    "\n",
    "### Defeated by:\n",
    "- Players who are skilled enough to have a strong enough style to consistently beat them\n",
    "- Players who can aggress them by rushing the net\n",
    "- On that note players who have strong overhead shots\n",
    "- Players that hit behind them / move them up and down the court \n",
    "\n",
    "## All-Court Player\n",
    "- Adapts to opponent and is comfortable using a wide variety of shots\n",
    "- Jack of all trades, does not have one specific weapon\n",
    "\n",
    "### Defeated by:\n",
    "- Players who stick to their strengths\n",
    "- Players who keep opponent at baseline with looping topspins (you cant hit a variety of shots from there)\n",
    "- Players that are aggresive and good at it"
   ]
  },
  {
   "cell_type": "markdown",
   "metadata": {},
   "source": [
    "# Create Game outcomes DF"
   ]
  },
  {
   "cell_type": "code",
   "execution_count": 9,
   "metadata": {},
   "outputs": [],
   "source": [
    "def who_won(points, p1, p2):\n",
    "    set_points = points[points.SetWinner == 1]\n",
    "    p1SetsWon = 0\n",
    "    p2SetsWon = 0\n",
    "\n",
    "    for i in range(np.shape(set_points)[0]):\n",
    "        p1GamesWon = set_points.P1GamesWon.iloc[i]\n",
    "        p2GamesWon = set_points.P2GamesWon.iloc[i]\n",
    "\n",
    "        if p1GamesWon > p2GamesWon:\n",
    "            p1SetsWon += 1\n",
    "        else:\n",
    "            p2SetsWon += 1\n",
    "    \n",
    "    if p1SetsWon > p2SetsWon:\n",
    "        return 1\n",
    "    else:\n",
    "        return -1\n",
    "    "
   ]
  },
  {
   "cell_type": "code",
   "execution_count": 12,
   "metadata": {},
   "outputs": [],
   "source": [
    "colnames = ['Player1', 'Player2', 'Outcome']\n",
    "Outcomes = pd.DataFrame(index=[''], columns=colnames)\n",
    "\n",
    "tours = ['ausopen', 'frenchopen', 'usopen', 'wimbledon']\n",
    "\n",
    "ind = -1\n",
    "for year in np.arange(2011, 2018):\n",
    "    for tour in tours:\n",
    "        matches = pd.read_csv('tennis_data/' + str(year) + '-' + tour + '-matches.csv')\n",
    "        points = pd.read_csv('tennis_data/' + str(year) + '-' + tour + '-points.csv')\n",
    "\n",
    "        for i in range(np.shape(matches)[0]):\n",
    "            match_id = matches.match_id[i]\n",
    "            match_points = points[points.match_id == match_id]\n",
    "\n",
    "            outcome = who_won(match_points, matches.player1[i], matches.player2[i])\n",
    "\n",
    "            ind += 1\n",
    "            Outcomes.loc[ind] = [matches.player1[i], matches.player2[i], outcome]\n",
    "\n",
    "            "
   ]
  },
  {
   "cell_type": "markdown",
   "metadata": {},
   "source": [
    "# Subset Mens Top 100 tennis players\n",
    "Unfortunately the data available between Mens and Womens tennis is unqequal in detail and availability, so I'll be subsetting to the top 100 ATP tennis players as of 2018 (Where the point by point data ends)"
   ]
  },
  {
   "cell_type": "code",
   "execution_count": 13,
   "metadata": {},
   "outputs": [],
   "source": [
    "# I'm using the Mens ATP rankings from 2017 as a reference to separate (most) instances\n",
    "atp_ranks = pd.read_csv('ATP_Rankings.csv')\n",
    "\n",
    "atp_mens = atp_ranks.name\n",
    "players = (Outcomes.Player1.append(Outcomes.Player2)).unique()\n",
    "\n",
    "atp100 = []\n",
    "for player in players:\n",
    "    if (player in list(atp_mens)):\n",
    "        atp100.append(player)\n",
    "    else:\n",
    "        pass \n",
    "\n",
    "Outcomes = Outcomes[Outcomes.Player1.isin(atp100) & Outcomes.Player2.isin(atp100)]"
   ]
  },
  {
   "cell_type": "code",
   "execution_count": 16,
   "metadata": {},
   "outputs": [],
   "source": [
    "Outcomes = Outcomes.dropna()\n",
    "Outcomes.to_csv('match_outcomes.csv')"
   ]
  },
  {
   "cell_type": "code",
   "execution_count": 17,
   "metadata": {},
   "outputs": [
    {
     "data": {
      "text/html": "<div>\n<style scoped>\n    .dataframe tbody tr th:only-of-type {\n        vertical-align: middle;\n    }\n\n    .dataframe tbody tr th {\n        vertical-align: top;\n    }\n\n    .dataframe thead th {\n        text-align: right;\n    }\n</style>\n<table border=\"1\" class=\"dataframe\">\n  <thead>\n    <tr style=\"text-align: right;\">\n      <th></th>\n      <th>Player1</th>\n      <th>Player2</th>\n      <th>Outcome</th>\n    </tr>\n  </thead>\n  <tbody>\n    <tr>\n      <th>3</th>\n      <td>Donald Young</td>\n      <td>Marin Cilic</td>\n      <td>-1</td>\n    </tr>\n    <tr>\n      <th>12</th>\n      <td>Dudi Sela</td>\n      <td>Juan Martin Del Potro</td>\n      <td>-1</td>\n    </tr>\n    <tr>\n      <th>17</th>\n      <td>Fabio Fognini</td>\n      <td>Kei Nishikori</td>\n      <td>1</td>\n    </tr>\n    <tr>\n      <th>28</th>\n      <td>Lukas Lacko</td>\n      <td>Roger Federer</td>\n      <td>-1</td>\n    </tr>\n    <tr>\n      <th>33</th>\n      <td>Mikhail Youzhny</td>\n      <td>Blaz Kavcic</td>\n      <td>1</td>\n    </tr>\n  </tbody>\n</table>\n</div>",
      "text/plain": "            Player1                Player2 Outcome\n3      Donald Young            Marin Cilic      -1\n12        Dudi Sela  Juan Martin Del Potro      -1\n17    Fabio Fognini          Kei Nishikori       1\n28      Lukas Lacko          Roger Federer      -1\n33  Mikhail Youzhny            Blaz Kavcic       1"
     },
     "execution_count": 17,
     "metadata": {},
     "output_type": "execute_result"
    }
   ],
   "source": [
    "Outcomes.head()"
   ]
  },
  {
   "cell_type": "markdown",
   "metadata": {},
   "source": [
    "## Ten players arent caught in this search look into later"
   ]
  },
  {
   "cell_type": "code",
   "execution_count": 18,
   "metadata": {},
   "outputs": [
    {
     "data": {
      "text/html": "<div>\n<style scoped>\n    .dataframe tbody tr th:only-of-type {\n        vertical-align: middle;\n    }\n\n    .dataframe tbody tr th {\n        vertical-align: top;\n    }\n\n    .dataframe thead th {\n        text-align: right;\n    }\n</style>\n<table border=\"1\" class=\"dataframe\">\n  <thead>\n    <tr style=\"text-align: right;\">\n      <th></th>\n      <th>Rafael Nadal</th>\n      <th>John Isner</th>\n      <th>Donald Young</th>\n      <th>Dudi Sela</th>\n      <th>Tomas Berdych</th>\n      <th>Fabio Fognini</th>\n      <th>Lukas Lacko</th>\n      <th>Mikhail Youzhny</th>\n      <th>Milos Raonic</th>\n      <th>Andreas Seppi</th>\n      <th>...</th>\n      <th>Andrey Rublev</th>\n      <th>Karen Khachanov</th>\n      <th>Daniil Medvedev</th>\n      <th>Marius Copil</th>\n      <th>Nicolas Kicker</th>\n      <th>Tennys Sandgren</th>\n      <th>Denis Shapovalov</th>\n      <th>Marton Fucsovics</th>\n      <th>Stefanos Tsitsipas</th>\n      <th>Victor Estrella</th>\n    </tr>\n  </thead>\n  <tbody>\n    <tr>\n      <th>Rafael Nadal</th>\n      <td>0</td>\n      <td>0</td>\n      <td>0</td>\n      <td>0</td>\n      <td>0</td>\n      <td>0</td>\n      <td>0</td>\n      <td>0</td>\n      <td>0</td>\n      <td>0</td>\n      <td>...</td>\n      <td>0</td>\n      <td>0</td>\n      <td>0</td>\n      <td>0</td>\n      <td>0</td>\n      <td>0</td>\n      <td>0</td>\n      <td>0</td>\n      <td>0</td>\n      <td>0</td>\n    </tr>\n    <tr>\n      <th>John Isner</th>\n      <td>0</td>\n      <td>0</td>\n      <td>0</td>\n      <td>0</td>\n      <td>0</td>\n      <td>0</td>\n      <td>0</td>\n      <td>0</td>\n      <td>0</td>\n      <td>0</td>\n      <td>...</td>\n      <td>0</td>\n      <td>0</td>\n      <td>0</td>\n      <td>0</td>\n      <td>0</td>\n      <td>0</td>\n      <td>0</td>\n      <td>0</td>\n      <td>0</td>\n      <td>0</td>\n    </tr>\n    <tr>\n      <th>Donald Young</th>\n      <td>0</td>\n      <td>0</td>\n      <td>0</td>\n      <td>0</td>\n      <td>0</td>\n      <td>0</td>\n      <td>0</td>\n      <td>0</td>\n      <td>0</td>\n      <td>0</td>\n      <td>...</td>\n      <td>0</td>\n      <td>0</td>\n      <td>0</td>\n      <td>0</td>\n      <td>0</td>\n      <td>0</td>\n      <td>0</td>\n      <td>0</td>\n      <td>0</td>\n      <td>0</td>\n    </tr>\n    <tr>\n      <th>Dudi Sela</th>\n      <td>0</td>\n      <td>0</td>\n      <td>0</td>\n      <td>0</td>\n      <td>0</td>\n      <td>0</td>\n      <td>0</td>\n      <td>0</td>\n      <td>0</td>\n      <td>0</td>\n      <td>...</td>\n      <td>0</td>\n      <td>0</td>\n      <td>0</td>\n      <td>0</td>\n      <td>0</td>\n      <td>0</td>\n      <td>0</td>\n      <td>0</td>\n      <td>0</td>\n      <td>0</td>\n    </tr>\n    <tr>\n      <th>Tomas Berdych</th>\n      <td>0</td>\n      <td>0</td>\n      <td>0</td>\n      <td>0</td>\n      <td>0</td>\n      <td>0</td>\n      <td>0</td>\n      <td>0</td>\n      <td>0</td>\n      <td>0</td>\n      <td>...</td>\n      <td>0</td>\n      <td>0</td>\n      <td>0</td>\n      <td>0</td>\n      <td>0</td>\n      <td>0</td>\n      <td>0</td>\n      <td>0</td>\n      <td>0</td>\n      <td>0</td>\n    </tr>\n  </tbody>\n</table>\n<p>5 rows × 96 columns</p>\n</div>",
      "text/plain": "               Rafael Nadal  John Isner  Donald Young  Dudi Sela  \\\nRafael Nadal              0           0             0          0   \nJohn Isner                0           0             0          0   \nDonald Young              0           0             0          0   \nDudi Sela                 0           0             0          0   \nTomas Berdych             0           0             0          0   \n\n               Tomas Berdych  Fabio Fognini  Lukas Lacko  Mikhail Youzhny  \\\nRafael Nadal               0              0            0                0   \nJohn Isner                 0              0            0                0   \nDonald Young               0              0            0                0   \nDudi Sela                  0              0            0                0   \nTomas Berdych              0              0            0                0   \n\n               Milos Raonic  Andreas Seppi  ...  Andrey Rublev  \\\nRafael Nadal              0              0  ...              0   \nJohn Isner                0              0  ...              0   \nDonald Young              0              0  ...              0   \nDudi Sela                 0              0  ...              0   \nTomas Berdych             0              0  ...              0   \n\n               Karen Khachanov  Daniil Medvedev  Marius Copil  Nicolas Kicker  \\\nRafael Nadal                 0                0             0               0   \nJohn Isner                   0                0             0               0   \nDonald Young                 0                0             0               0   \nDudi Sela                    0                0             0               0   \nTomas Berdych                0                0             0               0   \n\n               Tennys Sandgren  Denis Shapovalov  Marton Fucsovics  \\\nRafael Nadal                 0                 0                 0   \nJohn Isner                   0                 0                 0   \nDonald Young                 0                 0                 0   \nDudi Sela                    0                 0                 0   \nTomas Berdych                0                 0                 0   \n\n               Stefanos Tsitsipas  Victor Estrella  \nRafael Nadal                    0                0  \nJohn Isner                      0                0  \nDonald Young                    0                0  \nDudi Sela                       0                0  \nTomas Berdych                   0                0  \n\n[5 rows x 96 columns]"
     },
     "execution_count": 18,
     "metadata": {},
     "output_type": "execute_result"
    }
   ],
   "source": [
    "matchups = pd.DataFrame(0, index = atp100, columns= atp100)\n",
    "matchups.head()"
   ]
  },
  {
   "cell_type": "code",
   "execution_count": 19,
   "metadata": {},
   "outputs": [],
   "source": [
    "n = len(atp100)\n",
    "for i in range(0,n):\n",
    "    p1 = Outcomes.iloc[i].Player1\n",
    "    p2 = Outcomes.iloc[i].Player2\n",
    "\n",
    "    if Outcomes.iloc[i].Outcome == 1:\n",
    "        matchups.loc[p2, p1] = matchups.loc[p2, p1] + 1\n",
    "    else:\n",
    "        matchups.loc[p1, p2] = matchups.loc[p1, p2] + 1\n"
   ]
  },
  {
   "cell_type": "code",
   "execution_count": 20,
   "metadata": {},
   "outputs": [],
   "source": [
    "matchups.head()\n",
    "\n",
    "matchups.to_csv('matchups_atp100.csv')"
   ]
  },
  {
   "cell_type": "code",
   "execution_count": null,
   "metadata": {},
   "outputs": [],
   "source": []
  }
 ],
 "metadata": {
  "kernelspec": {
   "display_name": "CS109a",
   "language": "python",
   "name": "cs109a"
  },
  "language_info": {
   "codemirror_mode": {
    "name": "ipython",
    "version": 3
   },
   "file_extension": ".py",
   "mimetype": "text/x-python",
   "name": "python",
   "nbconvert_exporter": "python",
   "pygments_lexer": "ipython3",
   "version": "3.8.5"
  },
  "orig_nbformat": 2
 },
 "nbformat": 4,
 "nbformat_minor": 2
}